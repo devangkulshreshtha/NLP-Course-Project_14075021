{
 "cells": [
  {
   "cell_type": "code",
   "execution_count": 1,
   "metadata": {
    "collapsed": true
   },
   "outputs": [],
   "source": [
    "import pandas as pd \n",
    "import numpy as np"
   ]
  },
  {
   "cell_type": "code",
   "execution_count": 8,
   "metadata": {
    "collapsed": false
   },
   "outputs": [
    {
     "name": "stderr",
     "output_type": "stream",
     "text": [
      "/home/deju/anaconda2/lib/python2.7/site-packages/ipykernel/__main__.py:7: SettingWithCopyWarning: \n",
      "A value is trying to be set on a copy of a slice from a DataFrame\n",
      "\n",
      "See the caveats in the documentation: http://pandas.pydata.org/pandas-docs/stable/indexing.html#indexing-view-versus-copy\n",
      "/home/deju/anaconda2/lib/python2.7/site-packages/ipykernel/__main__.py:17: SettingWithCopyWarning: \n",
      "A value is trying to be set on a copy of a slice from a DataFrame\n",
      "\n",
      "See the caveats in the documentation: http://pandas.pydata.org/pandas-docs/stable/indexing.html#indexing-view-versus-copy\n"
     ]
    }
   ],
   "source": [
    "data = pd.read_csv('anger-ratings-0to1.dev_processed.target.csv')\n",
    "i=0\n",
    "with open('anger-ratings-0to1.dev.gold.txt','r') as f :\n",
    "    for line in f.readlines() :\n",
    "        l = line.split('\\t')\n",
    "        score = float(l[3])\n",
    "        data['score'][i] = score\n",
    "        i+=1\n",
    "data.to_csv('anger-ratings-0to1.dev_processed.target.csv')\n",
    "\n",
    "data = pd.read_csv('fear-ratings-0to1.dev_processed.target.csv')\n",
    "i=0\n",
    "with open('fear-ratings-0to1.dev.gold.txt','r') as f :\n",
    "    for line in f.readlines() :\n",
    "        l = line.split('\\t')\n",
    "        score = float(l[3])\n",
    "        data['score'][i] = score\n",
    "        i+=1\n",
    "data.to_csv('fear-ratings-0to1.dev_processed.target.csv')\n",
    "\n",
    "# data = pd.read_csv('joy-ratings-0to1.dev_processed.target.csv')\n",
    "# i=0\n",
    "# with open('joy-ratings-0to1.dev.gold.txt','r') as f :\n",
    "#     for line in f.readlines() :\n",
    "#         l = line.split('\\t')\n",
    "#         score = float(l[3])\n",
    "#         data['score'][i] = score\n",
    "#         i+=1\n",
    "# data.to_csv('joy-ratings-0to1.dev_processed.target2.csv')\n",
    "\n",
    "# data = pd.read_csv('sadness-ratings-0to1.dev_processed.target.csv')\n",
    "# i=0\n",
    "# with open('sadness-ratings-0to1.dev.gold.txt','r') as f :\n",
    "#     for line in f.readlines() :\n",
    "#         l = line.split('\\t')\n",
    "#         score = float(l[3])\n",
    "#         data['score'][i] = score\n",
    "#         i+=1\n",
    "# data.to_csv('sadness-ratings-0to1.dev_processed.target2.csv')"
   ]
  },
  {
   "cell_type": "code",
   "execution_count": null,
   "metadata": {
    "collapsed": true
   },
   "outputs": [],
   "source": []
  }
 ],
 "metadata": {
  "kernelspec": {
   "display_name": "Python [Root]",
   "language": "python",
   "name": "Python [Root]"
  },
  "language_info": {
   "codemirror_mode": {
    "name": "ipython",
    "version": 2
   },
   "file_extension": ".py",
   "mimetype": "text/x-python",
   "name": "python",
   "nbconvert_exporter": "python",
   "pygments_lexer": "ipython2",
   "version": "2.7.12"
  }
 },
 "nbformat": 4,
 "nbformat_minor": 0
}
