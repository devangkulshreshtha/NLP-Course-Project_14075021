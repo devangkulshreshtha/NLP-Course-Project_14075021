{
 "cells": [
  {
   "cell_type": "code",
   "execution_count": 1,
   "metadata": {
    "collapsed": false
   },
   "outputs": [
    {
     "name": "stderr",
     "output_type": "stream",
     "text": [
      "Using Theano backend.\n"
     ]
    }
   ],
   "source": [
    "import numpy as np\n",
    "from keras.preprocessing import sequence\n",
    "from keras.models import Sequential, Model\n",
    "from keras.layers import Dense, Embedding, Dropout, merge\n",
    "from keras.layers import LSTM,Bidirectional,GRU,SimpleRNN\n",
    "import pandas as pd\n",
    "from keras.layers import Conv2D, MaxPooling2D, Input\n",
    "\n",
    "import tensorflow as tf\n",
    "from keras.layers import Conv1D, GlobalMaxPooling1D,GlobalAveragePooling1D,MaxPooling1D, AveragePooling1D\n",
    "from scipy.stats import pearsonr\n",
    "from sklearn.cross_validation import train_test_split"
   ]
  },
  {
   "cell_type": "code",
   "execution_count": 2,
   "metadata": {
    "collapsed": true
   },
   "outputs": [],
   "source": [
    "import keras.backend as K\n",
    "\n",
    "def pearson(X,Y):\n",
    "    #return K.mean(K.abs(y_true-y_pred))\n",
    "    if K.sum(X)==0:return 0\n",
    "    n = K.sum(X)/K.mean(X)\n",
    "    if n==0:return 0\n",
    "    num = K.sum(X*Y) - K.sum(X)*K.sum(Y)/n\n",
    "    den = (K.sum(X*X) - K.square(K.sum(X))/n)*(K.sum(Y*Y) - K.square(K.sum(Y))/n)\n",
    "    den = K.sqrt(den)\n",
    "    if den==0 : return 0\n",
    "    return num/den\n",
    "\n",
    "def pearson1(X,Y):\n",
    "    #return K.mean(K.abs(y_true-y_pred))\n",
    "    if K.sum(X)==0:return 0\n",
    "    n = K.sum(X)/K.mean(X)\n",
    "    if n==0:return 0\n",
    "    num = K.sum(X*Y) - K.sum(X)*K.sum(Y)/n\n",
    "    den = (K.sum(X*X) - K.square(K.sum(X))/n)*(K.sum(Y*Y) - K.square(K.sum(Y))/n)\n",
    "    den = K.sqrt(den)\n",
    "    if den==0 : return 0\n",
    "    return -1 * num/den"
   ]
  },
  {
   "cell_type": "markdown",
   "metadata": {},
   "source": [
    "# prepare train, dev, test data"
   ]
  },
  {
   "cell_type": "markdown",
   "metadata": {},
   "source": [
    "# ensemble of feed-forward NN and CNN/LSTM for each emotion"
   ]
  },
  {
   "cell_type": "markdown",
   "metadata": {},
   "source": [
    "## anger"
   ]
  },
  {
   "cell_type": "code",
   "execution_count": 32,
   "metadata": {
    "collapsed": false
   },
   "outputs": [
    {
     "name": "stdout",
     "output_type": "stream",
     "text": [
      "(941, 43) (760, 43)\n"
     ]
    }
   ],
   "source": [
    "# import pickle\n",
    "# with open('temp/x_train_1.pickle', 'rb') as handle:\n",
    "#     x_train_1 = pickle.load(handle)\n",
    "# with open('temp/x_train_2.pickle', 'rb') as handle:\n",
    "#     x_train_2 = pickle.load(handle)\n",
    "# with open('temp/x_test_1.pickle', 'rb') as handle:\n",
    "#     x_test_1 = pickle.load(handle)\n",
    "# with open('temp/x_test_2.pickle', 'rb') as handle:\n",
    "#     x_test_2 = pickle.load(handle)\n",
    "# with open('temp/y_train.pickle', 'rb') as handle:\n",
    "#     y_train = pickle.load(handle)\n",
    "# with open('temp/y_test.pickle', 'rb') as handle:\n",
    "#     y_test = pickle.load(handle)\n",
    "    \n",
    "lex_train = np.load('../intermediates/train/anger/lexicon.npy')\n",
    "lex_val = np.load('../intermediates/val/anger/lexicon.npy')\n",
    "lex_test = np.load('../intermediates/test/anger/lexicon.npy')\n",
    "lex_train = np.concatenate([lex_train, lex_val], axis=0)\n",
    "print lex_train.shape, lex_test.shape"
   ]
  },
  {
   "cell_type": "code",
   "execution_count": 62,
   "metadata": {
    "collapsed": false,
    "scrolled": true
   },
   "outputs": [
    {
     "name": "stdout",
     "output_type": "stream",
     "text": [
      "Epoch 1/25\n",
      "4s - loss: 0.1247 - pearson: 0.4250\n",
      "Epoch 2/25\n",
      "4s - loss: 0.1145 - pearson: 0.5559\n",
      "Epoch 3/25\n",
      "3s - loss: 0.1031 - pearson: 0.6632\n",
      "Epoch 4/25\n",
      "3s - loss: 0.0938 - pearson: 0.7324\n",
      "Epoch 5/25\n",
      "3s - loss: 0.0841 - pearson: 0.7795\n",
      "Epoch 6/25\n",
      "3s - loss: 0.0779 - pearson: 0.8004\n",
      "Epoch 7/25\n",
      "4s - loss: 0.0725 - pearson: 0.8369\n",
      "Epoch 8/25\n",
      "3s - loss: 0.0700 - pearson: 0.8541\n",
      "Epoch 9/25\n",
      "3s - loss: 0.0628 - pearson: 0.8732\n",
      "Epoch 10/25\n",
      "4s - loss: 0.0612 - pearson: 0.8672\n",
      "Epoch 11/25\n",
      "4s - loss: 0.0607 - pearson: 0.8879\n",
      "Epoch 12/25\n",
      "4s - loss: 0.0600 - pearson: 0.9062\n",
      "Epoch 13/25\n",
      "4s - loss: 0.0530 - pearson: 0.9136\n",
      "Epoch 14/25\n",
      "4s - loss: 0.0524 - pearson: 0.9250\n",
      "Epoch 15/25\n",
      "4s - loss: 0.0530 - pearson: 0.9111\n",
      "Epoch 16/25\n",
      "5s - loss: 0.0488 - pearson: 0.9227\n",
      "Epoch 17/25\n",
      "6s - loss: 0.0495 - pearson: 0.9259\n",
      "Epoch 18/25\n",
      "6s - loss: 0.0488 - pearson: 0.9355\n",
      "Epoch 19/25\n",
      "6s - loss: 0.0487 - pearson: 0.9267\n",
      "Epoch 20/25\n",
      "6s - loss: 0.0473 - pearson: 0.9420\n",
      "Epoch 21/25\n",
      "6s - loss: 0.0438 - pearson: 0.9400\n",
      "Epoch 22/25\n",
      "6s - loss: 0.0442 - pearson: 0.9412\n",
      "Epoch 23/25\n",
      "6s - loss: 0.0435 - pearson: 0.9499\n",
      "Epoch 24/25\n",
      "6s - loss: 0.0433 - pearson: 0.9457\n",
      "Epoch 25/25\n",
      "6s - loss: 0.0402 - pearson: 0.9494\n",
      "(0.69402698761103498, 2.8489153155384524e-110)\n",
      "Epoch 1/25\n",
      "3s - loss: 0.1296 - pearson: 0.3988\n",
      "Epoch 2/25\n",
      "5s - loss: 0.1149 - pearson: 0.5192\n",
      "Epoch 3/25\n"
     ]
    },
    {
     "ename": "KeyboardInterrupt",
     "evalue": "",
     "output_type": "error",
     "traceback": [
      "\u001b[1;31m---------------------------------------------------------------------------\u001b[0m",
      "\u001b[1;31mKeyboardInterrupt\u001b[0m                         Traceback (most recent call last)",
      "\u001b[1;32m<ipython-input-62-f184f9191102>\u001b[0m in \u001b[0;36m<module>\u001b[1;34m()\u001b[0m\n\u001b[0;32m     35\u001b[0m     \u001b[0mmodel\u001b[0m\u001b[1;33m.\u001b[0m\u001b[0mcompile\u001b[0m\u001b[1;33m(\u001b[0m\u001b[0mloss\u001b[0m\u001b[1;33m=\u001b[0m\u001b[1;34m'mae'\u001b[0m\u001b[1;33m,\u001b[0m \u001b[0moptimizer\u001b[0m\u001b[1;33m=\u001b[0m\u001b[1;34m'adam'\u001b[0m\u001b[1;33m,\u001b[0m \u001b[0mmetrics\u001b[0m\u001b[1;33m=\u001b[0m\u001b[1;33m[\u001b[0m\u001b[0mpearson\u001b[0m\u001b[1;33m]\u001b[0m\u001b[1;33m)\u001b[0m\u001b[1;33m\u001b[0m\u001b[0m\n\u001b[0;32m     36\u001b[0m     model.fit([x_train_1['anger'], x_train_2['anger'], lex_train], y_train['anger'], \n\u001b[1;32m---> 37\u001b[1;33m               \u001b[0mnb_epoch\u001b[0m\u001b[1;33m=\u001b[0m\u001b[1;36m25\u001b[0m\u001b[1;33m,\u001b[0m \u001b[0mverbose\u001b[0m\u001b[1;33m=\u001b[0m\u001b[1;36m2\u001b[0m\u001b[1;33m,\u001b[0m \u001b[0mbatch_size\u001b[0m\u001b[1;33m=\u001b[0m\u001b[1;36m8\u001b[0m\u001b[1;33m,\u001b[0m\u001b[1;33m\u001b[0m\u001b[0m\n\u001b[0m\u001b[0;32m     38\u001b[0m              )\n\u001b[0;32m     39\u001b[0m     \u001b[0mtmp\u001b[0m \u001b[1;33m=\u001b[0m \u001b[0mmodel\u001b[0m\u001b[1;33m.\u001b[0m\u001b[0mpredict\u001b[0m\u001b[1;33m(\u001b[0m\u001b[1;33m[\u001b[0m\u001b[0mx_test_1\u001b[0m\u001b[1;33m[\u001b[0m\u001b[1;34m'anger'\u001b[0m\u001b[1;33m]\u001b[0m\u001b[1;33m,\u001b[0m \u001b[0mx_test_2\u001b[0m\u001b[1;33m[\u001b[0m\u001b[1;34m'anger'\u001b[0m\u001b[1;33m]\u001b[0m\u001b[1;33m,\u001b[0m \u001b[0mlex_test\u001b[0m\u001b[1;33m]\u001b[0m\u001b[1;33m)\u001b[0m\u001b[1;33m\u001b[0m\u001b[0m\n",
      "\u001b[1;32m/home/deju/anaconda2/lib/python2.7/site-packages/keras/engine/training.pyc\u001b[0m in \u001b[0;36mfit\u001b[1;34m(self, x, y, batch_size, nb_epoch, verbose, callbacks, validation_split, validation_data, shuffle, class_weight, sample_weight, initial_epoch)\u001b[0m\n\u001b[0;32m   1141\u001b[0m                               \u001b[0mval_f\u001b[0m\u001b[1;33m=\u001b[0m\u001b[0mval_f\u001b[0m\u001b[1;33m,\u001b[0m \u001b[0mval_ins\u001b[0m\u001b[1;33m=\u001b[0m\u001b[0mval_ins\u001b[0m\u001b[1;33m,\u001b[0m \u001b[0mshuffle\u001b[0m\u001b[1;33m=\u001b[0m\u001b[0mshuffle\u001b[0m\u001b[1;33m,\u001b[0m\u001b[1;33m\u001b[0m\u001b[0m\n\u001b[0;32m   1142\u001b[0m                               \u001b[0mcallback_metrics\u001b[0m\u001b[1;33m=\u001b[0m\u001b[0mcallback_metrics\u001b[0m\u001b[1;33m,\u001b[0m\u001b[1;33m\u001b[0m\u001b[0m\n\u001b[1;32m-> 1143\u001b[1;33m                               initial_epoch=initial_epoch)\n\u001b[0m\u001b[0;32m   1144\u001b[0m \u001b[1;33m\u001b[0m\u001b[0m\n\u001b[0;32m   1145\u001b[0m     \u001b[1;32mdef\u001b[0m \u001b[0mevaluate\u001b[0m\u001b[1;33m(\u001b[0m\u001b[0mself\u001b[0m\u001b[1;33m,\u001b[0m \u001b[0mx\u001b[0m\u001b[1;33m,\u001b[0m \u001b[0my\u001b[0m\u001b[1;33m,\u001b[0m \u001b[0mbatch_size\u001b[0m\u001b[1;33m=\u001b[0m\u001b[1;36m32\u001b[0m\u001b[1;33m,\u001b[0m \u001b[0mverbose\u001b[0m\u001b[1;33m=\u001b[0m\u001b[1;36m1\u001b[0m\u001b[1;33m,\u001b[0m \u001b[0msample_weight\u001b[0m\u001b[1;33m=\u001b[0m\u001b[0mNone\u001b[0m\u001b[1;33m)\u001b[0m\u001b[1;33m:\u001b[0m\u001b[1;33m\u001b[0m\u001b[0m\n",
      "\u001b[1;32m/home/deju/anaconda2/lib/python2.7/site-packages/keras/engine/training.pyc\u001b[0m in \u001b[0;36m_fit_loop\u001b[1;34m(self, f, ins, out_labels, batch_size, nb_epoch, verbose, callbacks, val_f, val_ins, shuffle, callback_metrics, initial_epoch)\u001b[0m\n\u001b[0;32m    841\u001b[0m                 \u001b[0mbatch_logs\u001b[0m\u001b[1;33m[\u001b[0m\u001b[1;34m'size'\u001b[0m\u001b[1;33m]\u001b[0m \u001b[1;33m=\u001b[0m \u001b[0mlen\u001b[0m\u001b[1;33m(\u001b[0m\u001b[0mbatch_ids\u001b[0m\u001b[1;33m)\u001b[0m\u001b[1;33m\u001b[0m\u001b[0m\n\u001b[0;32m    842\u001b[0m                 \u001b[0mcallbacks\u001b[0m\u001b[1;33m.\u001b[0m\u001b[0mon_batch_begin\u001b[0m\u001b[1;33m(\u001b[0m\u001b[0mbatch_index\u001b[0m\u001b[1;33m,\u001b[0m \u001b[0mbatch_logs\u001b[0m\u001b[1;33m)\u001b[0m\u001b[1;33m\u001b[0m\u001b[0m\n\u001b[1;32m--> 843\u001b[1;33m                 \u001b[0mouts\u001b[0m \u001b[1;33m=\u001b[0m \u001b[0mf\u001b[0m\u001b[1;33m(\u001b[0m\u001b[0mins_batch\u001b[0m\u001b[1;33m)\u001b[0m\u001b[1;33m\u001b[0m\u001b[0m\n\u001b[0m\u001b[0;32m    844\u001b[0m                 \u001b[1;32mif\u001b[0m \u001b[1;32mnot\u001b[0m \u001b[0misinstance\u001b[0m\u001b[1;33m(\u001b[0m\u001b[0mouts\u001b[0m\u001b[1;33m,\u001b[0m \u001b[0mlist\u001b[0m\u001b[1;33m)\u001b[0m\u001b[1;33m:\u001b[0m\u001b[1;33m\u001b[0m\u001b[0m\n\u001b[0;32m    845\u001b[0m                     \u001b[0mouts\u001b[0m \u001b[1;33m=\u001b[0m \u001b[1;33m[\u001b[0m\u001b[0mouts\u001b[0m\u001b[1;33m]\u001b[0m\u001b[1;33m\u001b[0m\u001b[0m\n",
      "\u001b[1;32m/home/deju/anaconda2/lib/python2.7/site-packages/keras/backend/theano_backend.pyc\u001b[0m in \u001b[0;36m__call__\u001b[1;34m(self, inputs)\u001b[0m\n\u001b[0;32m    917\u001b[0m     \u001b[1;32mdef\u001b[0m \u001b[0m__call__\u001b[0m\u001b[1;33m(\u001b[0m\u001b[0mself\u001b[0m\u001b[1;33m,\u001b[0m \u001b[0minputs\u001b[0m\u001b[1;33m)\u001b[0m\u001b[1;33m:\u001b[0m\u001b[1;33m\u001b[0m\u001b[0m\n\u001b[0;32m    918\u001b[0m         \u001b[1;32massert\u001b[0m \u001b[0misinstance\u001b[0m\u001b[1;33m(\u001b[0m\u001b[0minputs\u001b[0m\u001b[1;33m,\u001b[0m \u001b[1;33m(\u001b[0m\u001b[0mlist\u001b[0m\u001b[1;33m,\u001b[0m \u001b[0mtuple\u001b[0m\u001b[1;33m)\u001b[0m\u001b[1;33m)\u001b[0m\u001b[1;33m\u001b[0m\u001b[0m\n\u001b[1;32m--> 919\u001b[1;33m         \u001b[1;32mreturn\u001b[0m \u001b[0mself\u001b[0m\u001b[1;33m.\u001b[0m\u001b[0mfunction\u001b[0m\u001b[1;33m(\u001b[0m\u001b[1;33m*\u001b[0m\u001b[0minputs\u001b[0m\u001b[1;33m)\u001b[0m\u001b[1;33m\u001b[0m\u001b[0m\n\u001b[0m\u001b[0;32m    920\u001b[0m \u001b[1;33m\u001b[0m\u001b[0m\n\u001b[0;32m    921\u001b[0m \u001b[1;33m\u001b[0m\u001b[0m\n",
      "\u001b[1;32m/home/deju/anaconda2/lib/python2.7/site-packages/theano/compile/function_module.pyc\u001b[0m in \u001b[0;36m__call__\u001b[1;34m(self, *args, **kwargs)\u001b[0m\n\u001b[0;32m    857\u001b[0m         \u001b[0mt0_fn\u001b[0m \u001b[1;33m=\u001b[0m \u001b[0mtime\u001b[0m\u001b[1;33m.\u001b[0m\u001b[0mtime\u001b[0m\u001b[1;33m(\u001b[0m\u001b[1;33m)\u001b[0m\u001b[1;33m\u001b[0m\u001b[0m\n\u001b[0;32m    858\u001b[0m         \u001b[1;32mtry\u001b[0m\u001b[1;33m:\u001b[0m\u001b[1;33m\u001b[0m\u001b[0m\n\u001b[1;32m--> 859\u001b[1;33m             \u001b[0moutputs\u001b[0m \u001b[1;33m=\u001b[0m \u001b[0mself\u001b[0m\u001b[1;33m.\u001b[0m\u001b[0mfn\u001b[0m\u001b[1;33m(\u001b[0m\u001b[1;33m)\u001b[0m\u001b[1;33m\u001b[0m\u001b[0m\n\u001b[0m\u001b[0;32m    860\u001b[0m         \u001b[1;32mexcept\u001b[0m \u001b[0mException\u001b[0m\u001b[1;33m:\u001b[0m\u001b[1;33m\u001b[0m\u001b[0m\n\u001b[0;32m    861\u001b[0m             \u001b[1;32mif\u001b[0m \u001b[0mhasattr\u001b[0m\u001b[1;33m(\u001b[0m\u001b[0mself\u001b[0m\u001b[1;33m.\u001b[0m\u001b[0mfn\u001b[0m\u001b[1;33m,\u001b[0m \u001b[1;34m'position_of_error'\u001b[0m\u001b[1;33m)\u001b[0m\u001b[1;33m:\u001b[0m\u001b[1;33m\u001b[0m\u001b[0m\n",
      "\u001b[1;31mKeyboardInterrupt\u001b[0m: "
     ]
    }
   ],
   "source": [
    "ypred = np.zeros(760)\n",
    "for i in range(6) : \n",
    "    input1 = Input(shape=(443,))\n",
    "    l1 = Dense(256, init='normal', activation='relu')(input1)\n",
    "    l1 = Dropout(p=0.2)(l1)\n",
    "    l1 = Dense(128, init='normal', activation='relu')(l1)\n",
    "    #l1 = Dense(50, init='normal', activation='relu')(l1)\n",
    "    #l1 = Dropout(p=0.2)(l1)\n",
    "    #l1 = Dense(25, init='normal', activation='relu')(l1)\n",
    "    #o1 = Dense(1, init='normal')(l1)\n",
    "\n",
    "    #cnn-lstm-1\n",
    "    input2 = Input(shape=(50,400,))\n",
    "    l2 = Conv1D(128,3,activation='relu')(input2)\n",
    "    #l2 = Conv1D(64,3,activation='relu')(l2)\n",
    "    l2 = GlobalMaxPooling1D()(l2)\n",
    "    l2 = Dropout(p=0.2)(l2)\n",
    "    l2 = Dense(128,activation='relu')(l2)\n",
    "    #l2 = Dense(50,activation='relu')(l2)\n",
    "    #l2 = Dense(25,activation='relu')(l2)\n",
    "    #o2 = Dense(1)(l2)\n",
    "\n",
    "    input3 = Input(shape=(43,))\n",
    "    \n",
    "    merged_output = merge([l1, l2, input3], mode='concat', concat_axis=-1)\n",
    "    merged_output = Dense(128, activation='relu')(merged_output)\n",
    "    merged_output = Dropout(p=0.2)(merged_output)\n",
    "    merged_output = Dense(64, activation='relu')(merged_output)\n",
    "    merged_output = Dense(32, activation='relu')(merged_output)\n",
    "    \n",
    "    merged_output = Dropout(p=0.2)(merged_output)\n",
    "    predictions = Dense(1, activation='sigmoid')(merged_output)\n",
    "\n",
    "    model = Model(input=[input1, input2, input3], output=predictions)\n",
    "    model.compile(loss='mae', optimizer='adam', metrics=[pearson])\n",
    "    model.fit([x_train_1['anger'], x_train_2['anger'], lex_train], y_train['anger'], \n",
    "              nb_epoch=25, verbose=2, batch_size=8,\n",
    "             )\n",
    "    tmp = model.predict([x_test_1['anger'], x_test_2['anger'], lex_test])\n",
    "    print pearsonr(tmp[:,0], y_test['anger'])\n",
    "    ypred += tmp[:,0]\n",
    "    \n",
    "#     feature_layer = K.function([[model.layers[0].output,model.layers[5].output], K.learning_phase()], [model.layers[2].output])\n",
    "#     features = feature_layer([x_test_1['anger'], x_test_2['anger'] , 1 ])\n",
    "#     print features.shape\n",
    "    \n",
    "print pearsonr(ypred/7.0, y_test['anger'])\n",
    "np.save('anger1.npy', ypred/7.0)"
   ]
  },
  {
   "cell_type": "code",
   "execution_count": null,
   "metadata": {
    "collapsed": true
   },
   "outputs": [],
   "source": []
  }
 ],
 "metadata": {
  "kernelspec": {
   "display_name": "Python [Root]",
   "language": "python",
   "name": "Python [Root]"
  },
  "language_info": {
   "codemirror_mode": {
    "name": "ipython",
    "version": 2
   },
   "file_extension": ".py",
   "mimetype": "text/x-python",
   "name": "python",
   "nbconvert_exporter": "python",
   "pygments_lexer": "ipython2",
   "version": "2.7.12"
  }
 },
 "nbformat": 4,
 "nbformat_minor": 0
}
